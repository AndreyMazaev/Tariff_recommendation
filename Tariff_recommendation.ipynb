{
 "cells": [
  {
   "cell_type": "markdown",
   "metadata": {},
   "source": [
    "# Рекомендация тарифов"
   ]
  },
  {
   "cell_type": "markdown",
   "metadata": {},
   "source": [
    "В вашем распоряжении данные о поведении клиентов, которые уже перешли на эти тарифы (из проекта курса «Статистический анализ данных»). Нужно построить модель для задачи классификации, которая выберет подходящий тариф. Предобработка данных не понадобится — вы её уже сделали.\n",
    "\n",
    "Постройте модель с максимально большим значением *accuracy*. Чтобы сдать проект успешно, нужно довести долю правильных ответов по крайней мере до 0.75. Проверьте *accuracy* на тестовой выборке самостоятельно."
   ]
  },
  {
   "cell_type": "markdown",
   "metadata": {},
   "source": [
    "Импортируем нужные библиотеки ⬇"
   ]
  },
  {
   "cell_type": "code",
   "execution_count": 1,
   "metadata": {},
   "outputs": [],
   "source": [
    "import pandas as pd\n",
    "from sklearn.model_selection import train_test_split\n",
    "from sklearn.metrics import mean_squared_error\n",
    "from sklearn.ensemble import RandomForestClassifier\n",
    "from sklearn.linear_model import LogisticRegression\n",
    "from sklearn.metrics import accuracy_score"
   ]
  },
  {
   "cell_type": "markdown",
   "metadata": {},
   "source": [
    "## Откройте и изучите файл"
   ]
  },
  {
   "cell_type": "markdown",
   "metadata": {},
   "source": [
    "Файл - users_behavior.csv"
   ]
  },
  {
   "cell_type": "code",
   "execution_count": 2,
   "metadata": {},
   "outputs": [
    {
     "data": {
      "text/html": [
       "<div>\n",
       "<style scoped>\n",
       "    .dataframe tbody tr th:only-of-type {\n",
       "        vertical-align: middle;\n",
       "    }\n",
       "\n",
       "    .dataframe tbody tr th {\n",
       "        vertical-align: top;\n",
       "    }\n",
       "\n",
       "    .dataframe thead th {\n",
       "        text-align: right;\n",
       "    }\n",
       "</style>\n",
       "<table border=\"1\" class=\"dataframe\">\n",
       "  <thead>\n",
       "    <tr style=\"text-align: right;\">\n",
       "      <th></th>\n",
       "      <th>calls</th>\n",
       "      <th>minutes</th>\n",
       "      <th>messages</th>\n",
       "      <th>mb_used</th>\n",
       "      <th>is_ultra</th>\n",
       "    </tr>\n",
       "  </thead>\n",
       "  <tbody>\n",
       "    <tr>\n",
       "      <th>0</th>\n",
       "      <td>40.0</td>\n",
       "      <td>311.90</td>\n",
       "      <td>83.0</td>\n",
       "      <td>19915.42</td>\n",
       "      <td>0</td>\n",
       "    </tr>\n",
       "    <tr>\n",
       "      <th>1</th>\n",
       "      <td>85.0</td>\n",
       "      <td>516.75</td>\n",
       "      <td>56.0</td>\n",
       "      <td>22696.96</td>\n",
       "      <td>0</td>\n",
       "    </tr>\n",
       "    <tr>\n",
       "      <th>2</th>\n",
       "      <td>77.0</td>\n",
       "      <td>467.66</td>\n",
       "      <td>86.0</td>\n",
       "      <td>21060.45</td>\n",
       "      <td>0</td>\n",
       "    </tr>\n",
       "    <tr>\n",
       "      <th>3</th>\n",
       "      <td>106.0</td>\n",
       "      <td>745.53</td>\n",
       "      <td>81.0</td>\n",
       "      <td>8437.39</td>\n",
       "      <td>1</td>\n",
       "    </tr>\n",
       "    <tr>\n",
       "      <th>4</th>\n",
       "      <td>66.0</td>\n",
       "      <td>418.74</td>\n",
       "      <td>1.0</td>\n",
       "      <td>14502.75</td>\n",
       "      <td>0</td>\n",
       "    </tr>\n",
       "    <tr>\n",
       "      <th>...</th>\n",
       "      <td>...</td>\n",
       "      <td>...</td>\n",
       "      <td>...</td>\n",
       "      <td>...</td>\n",
       "      <td>...</td>\n",
       "    </tr>\n",
       "    <tr>\n",
       "      <th>3209</th>\n",
       "      <td>122.0</td>\n",
       "      <td>910.98</td>\n",
       "      <td>20.0</td>\n",
       "      <td>35124.90</td>\n",
       "      <td>1</td>\n",
       "    </tr>\n",
       "    <tr>\n",
       "      <th>3210</th>\n",
       "      <td>25.0</td>\n",
       "      <td>190.36</td>\n",
       "      <td>0.0</td>\n",
       "      <td>3275.61</td>\n",
       "      <td>0</td>\n",
       "    </tr>\n",
       "    <tr>\n",
       "      <th>3211</th>\n",
       "      <td>97.0</td>\n",
       "      <td>634.44</td>\n",
       "      <td>70.0</td>\n",
       "      <td>13974.06</td>\n",
       "      <td>0</td>\n",
       "    </tr>\n",
       "    <tr>\n",
       "      <th>3212</th>\n",
       "      <td>64.0</td>\n",
       "      <td>462.32</td>\n",
       "      <td>90.0</td>\n",
       "      <td>31239.78</td>\n",
       "      <td>0</td>\n",
       "    </tr>\n",
       "    <tr>\n",
       "      <th>3213</th>\n",
       "      <td>80.0</td>\n",
       "      <td>566.09</td>\n",
       "      <td>6.0</td>\n",
       "      <td>29480.52</td>\n",
       "      <td>1</td>\n",
       "    </tr>\n",
       "  </tbody>\n",
       "</table>\n",
       "<p>3214 rows × 5 columns</p>\n",
       "</div>"
      ],
      "text/plain": [
       "      calls  minutes  messages   mb_used  is_ultra\n",
       "0      40.0   311.90      83.0  19915.42         0\n",
       "1      85.0   516.75      56.0  22696.96         0\n",
       "2      77.0   467.66      86.0  21060.45         0\n",
       "3     106.0   745.53      81.0   8437.39         1\n",
       "4      66.0   418.74       1.0  14502.75         0\n",
       "...     ...      ...       ...       ...       ...\n",
       "3209  122.0   910.98      20.0  35124.90         1\n",
       "3210   25.0   190.36       0.0   3275.61         0\n",
       "3211   97.0   634.44      70.0  13974.06         0\n",
       "3212   64.0   462.32      90.0  31239.78         0\n",
       "3213   80.0   566.09       6.0  29480.52         1\n",
       "\n",
       "[3214 rows x 5 columns]"
      ]
     },
     "execution_count": 2,
     "metadata": {},
     "output_type": "execute_result"
    }
   ],
   "source": [
    "df = pd.read_csv('/datasets/users_behavior.csv')\n",
    "df"
   ]
  },
  {
   "cell_type": "code",
   "execution_count": 3,
   "metadata": {},
   "outputs": [
    {
     "name": "stdout",
     "output_type": "stream",
     "text": [
      "<class 'pandas.core.frame.DataFrame'>\n",
      "RangeIndex: 3214 entries, 0 to 3213\n",
      "Data columns (total 5 columns):\n",
      " #   Column    Non-Null Count  Dtype  \n",
      "---  ------    --------------  -----  \n",
      " 0   calls     3214 non-null   float64\n",
      " 1   minutes   3214 non-null   float64\n",
      " 2   messages  3214 non-null   float64\n",
      " 3   mb_used   3214 non-null   float64\n",
      " 4   is_ultra  3214 non-null   int64  \n",
      "dtypes: float64(4), int64(1)\n",
      "memory usage: 125.7 KB\n"
     ]
    }
   ],
   "source": [
    "df.info()"
   ]
  },
  {
   "cell_type": "markdown",
   "metadata": {},
   "source": [
    "Данные в отличном состоянии"
   ]
  },
  {
   "cell_type": "markdown",
   "metadata": {},
   "source": [
    "## Разбейте данные на выборки"
   ]
  },
  {
   "cell_type": "code",
   "execution_count": 4,
   "metadata": {},
   "outputs": [],
   "source": [
    "df_train, df_valid = train_test_split(df, test_size=0.25, random_state=12345) # валидационная выборка (25%)\n",
    "\n",
    "df_train, df_test = train_test_split(df_train, test_size=0.25, random_state=12345) # тестовая выборка (25%)"
   ]
  },
  {
   "cell_type": "code",
   "execution_count": 5,
   "metadata": {},
   "outputs": [],
   "source": [
    "features_train = df_train.drop(['is_ultra'], axis=1)\n",
    "target_train = df_train['is_ultra']\n",
    "\n",
    "features_valid = df_valid.drop(['is_ultra'], axis=1)\n",
    "target_valid = df_valid['is_ultra']\n",
    "\n",
    "features_test = df_test.drop(['is_ultra'], axis=1)\n",
    "target_test = df_test['is_ultra']"
   ]
  },
  {
   "cell_type": "markdown",
   "metadata": {},
   "source": [
    "## Исследуйте модели"
   ]
  },
  {
   "cell_type": "markdown",
   "metadata": {},
   "source": [
    "### Для начала посмотрим на модель \"случайного леса\""
   ]
  },
  {
   "cell_type": "code",
   "execution_count": 6,
   "metadata": {},
   "outputs": [
    {
     "name": "stdout",
     "output_type": "stream",
     "text": [
      "Accuracy наилучшей модели на валидационной выборке: 0.779\n"
     ]
    }
   ],
   "source": [
    "best_model = None\n",
    "best_result = 0\n",
    "for est in range(1,11):\n",
    "    model_forest = RandomForestClassifier(random_state=12345, n_estimators=est)\n",
    "    model_forest.fit(features_train, target_train)\n",
    "    result = model_forest.score(features_valid, target_valid)\n",
    "    \n",
    "    if result > best_result:\n",
    "        best_model = model_forest\n",
    "        best_result = result\n",
    "print('Accuracy наилучшей модели на валидационной выборке:', best_result.round(3))"
   ]
  },
  {
   "cell_type": "markdown",
   "metadata": {},
   "source": [
    "Accuracy наилучшей модели на валидационной выборке 0.79"
   ]
  },
  {
   "cell_type": "markdown",
   "metadata": {},
   "source": [
    "### Теперь посмотрим на модель логистической регрессии"
   ]
  },
  {
   "cell_type": "code",
   "execution_count": 7,
   "metadata": {},
   "outputs": [
    {
     "data": {
      "text/plain": [
       "0.749"
      ]
     },
     "execution_count": 7,
     "metadata": {},
     "output_type": "execute_result"
    }
   ],
   "source": [
    "model_log = LogisticRegression(random_state=12345, solver='lbfgs', max_iter=1000)\n",
    "model_log.fit(features_train, target_train)\n",
    "result = model_log.score(features_train, target_train)\n",
    "result.round(3)"
   ]
  },
  {
   "cell_type": "markdown",
   "metadata": {},
   "source": [
    "Accuracy наилучшей модели на валидационной выборке оказался чуть меньше - 0.702. Но за то вероятность переобучить модель очень мала"
   ]
  },
  {
   "cell_type": "markdown",
   "metadata": {},
   "source": [
    "## Проверьте модель на тестовой выборке"
   ]
  },
  {
   "cell_type": "code",
   "execution_count": 8,
   "metadata": {},
   "outputs": [
    {
     "name": "stdout",
     "output_type": "stream",
     "text": [
      "Accuracy наилучшей модели на тестовой выборке: 0.794\n"
     ]
    }
   ],
   "source": [
    "model = RandomForestClassifier(random_state=12345, n_estimators=est)\n",
    "model.fit(features_train, target_train)\n",
    "result_test = model.score(features_test, target_test)\n",
    "print('Accuracy наилучшей модели на тестовой выборке:', result_test.round(3))"
   ]
  },
  {
   "cell_type": "markdown",
   "metadata": {},
   "source": [
    "Accuracy наилучшей модели на тестовой выборке - 0.794"
   ]
  },
  {
   "cell_type": "markdown",
   "metadata": {},
   "source": [
    "## (бонус) Проверьте модели на адекватность"
   ]
  },
  {
   "cell_type": "markdown",
   "metadata": {},
   "source": [
    "Проверим модель \"случйного леса\" на адекватность"
   ]
  },
  {
   "cell_type": "code",
   "execution_count": 9,
   "metadata": {},
   "outputs": [
    {
     "name": "stdout",
     "output_type": "stream",
     "text": [
      "0.779\n"
     ]
    }
   ],
   "source": [
    "prediction_valid = model_forest.predict(features_valid)\n",
    "print(accuracy_score(target_valid, prediction_valid).round(3))"
   ]
  },
  {
   "cell_type": "markdown",
   "metadata": {},
   "source": [
    "Проверим модель \"логистической регрессии\" на адекватность"
   ]
  },
  {
   "cell_type": "code",
   "execution_count": 10,
   "metadata": {},
   "outputs": [
    {
     "name": "stdout",
     "output_type": "stream",
     "text": [
      "0.761\n"
     ]
    }
   ],
   "source": [
    "prediction_valid = model_log.predict(features_valid)\n",
    "print(accuracy_score(target_valid, prediction_valid).round(3))"
   ]
  }
 ],
 "metadata": {
  "ExecuteTimeLog": [
   {
    "duration": 72,
    "start_time": "2022-12-13T11:33:26.325Z"
   },
   {
    "duration": 448,
    "start_time": "2022-12-13T11:33:37.206Z"
   },
   {
    "duration": 99,
    "start_time": "2022-12-13T11:33:37.655Z"
   },
   {
    "duration": 11,
    "start_time": "2022-12-13T11:48:45.793Z"
   },
   {
    "duration": 724,
    "start_time": "2022-12-13T11:55:09.339Z"
   },
   {
    "duration": 50,
    "start_time": "2022-12-13T14:39:19.270Z"
   },
   {
    "duration": 45,
    "start_time": "2022-12-13T14:39:21.206Z"
   },
   {
    "duration": 11,
    "start_time": "2022-12-13T14:39:21.718Z"
   },
   {
    "duration": 1155,
    "start_time": "2022-12-13T16:08:36.035Z"
   },
   {
    "duration": 45,
    "start_time": "2022-12-13T16:08:37.192Z"
   },
   {
    "duration": 11,
    "start_time": "2022-12-13T16:08:37.238Z"
   },
   {
    "duration": 170,
    "start_time": "2022-12-13T16:08:37.251Z"
   },
   {
    "duration": 9,
    "start_time": "2022-12-13T16:08:37.423Z"
   },
   {
    "duration": 311,
    "start_time": "2022-12-13T16:08:37.433Z"
   },
   {
    "duration": 1061,
    "start_time": "2022-12-13T16:09:13.443Z"
   },
   {
    "duration": 43,
    "start_time": "2022-12-13T16:09:14.506Z"
   },
   {
    "duration": 11,
    "start_time": "2022-12-13T16:09:14.551Z"
   },
   {
    "duration": 13,
    "start_time": "2022-12-13T16:09:14.564Z"
   },
   {
    "duration": 18,
    "start_time": "2022-12-13T16:09:14.578Z"
   },
   {
    "duration": 336,
    "start_time": "2022-12-13T16:09:14.598Z"
   },
   {
    "duration": 298,
    "start_time": "2022-12-13T16:12:22.337Z"
   },
   {
    "duration": 294,
    "start_time": "2022-12-13T16:12:30.955Z"
   },
   {
    "duration": 310,
    "start_time": "2022-12-13T16:12:37.460Z"
   },
   {
    "duration": 290,
    "start_time": "2022-12-13T16:12:43.899Z"
   },
   {
    "duration": 336,
    "start_time": "2022-12-13T16:12:50.091Z"
   },
   {
    "duration": 320,
    "start_time": "2022-12-13T16:12:54.137Z"
   },
   {
    "duration": 65,
    "start_time": "2022-12-13T16:18:54.266Z"
   },
   {
    "duration": 27,
    "start_time": "2022-12-13T16:18:59.571Z"
   },
   {
    "duration": 14,
    "start_time": "2022-12-13T16:19:04.524Z"
   },
   {
    "duration": 1031,
    "start_time": "2022-12-13T16:19:12.060Z"
   },
   {
    "duration": 1085,
    "start_time": "2022-12-13T16:19:20.413Z"
   },
   {
    "duration": 44,
    "start_time": "2022-12-13T16:19:21.500Z"
   },
   {
    "duration": 11,
    "start_time": "2022-12-13T16:19:21.546Z"
   },
   {
    "duration": 26,
    "start_time": "2022-12-13T16:19:21.559Z"
   },
   {
    "duration": 22,
    "start_time": "2022-12-13T16:19:21.587Z"
   },
   {
    "duration": 1024,
    "start_time": "2022-12-13T16:19:21.610Z"
   },
   {
    "duration": 293,
    "start_time": "2022-12-13T16:19:38.682Z"
   },
   {
    "duration": 4,
    "start_time": "2022-12-13T16:23:33.510Z"
   },
   {
    "duration": 98,
    "start_time": "2022-12-13T16:32:50.004Z"
   },
   {
    "duration": 1115,
    "start_time": "2022-12-13T16:33:05.473Z"
   },
   {
    "duration": 0,
    "start_time": "2022-12-13T16:33:22.112Z"
   },
   {
    "duration": 0,
    "start_time": "2022-12-13T16:33:22.113Z"
   },
   {
    "duration": 0,
    "start_time": "2022-12-13T16:33:22.113Z"
   },
   {
    "duration": 0,
    "start_time": "2022-12-13T16:33:22.115Z"
   },
   {
    "duration": 0,
    "start_time": "2022-12-13T16:33:22.116Z"
   },
   {
    "duration": 0,
    "start_time": "2022-12-13T16:33:22.117Z"
   },
   {
    "duration": 0,
    "start_time": "2022-12-13T16:33:22.117Z"
   },
   {
    "duration": 1146,
    "start_time": "2022-12-13T16:34:47.306Z"
   },
   {
    "duration": 45,
    "start_time": "2022-12-13T16:34:48.454Z"
   },
   {
    "duration": 11,
    "start_time": "2022-12-13T16:34:48.500Z"
   },
   {
    "duration": 947,
    "start_time": "2022-12-13T16:34:48.513Z"
   },
   {
    "duration": 0,
    "start_time": "2022-12-13T16:34:49.462Z"
   },
   {
    "duration": 0,
    "start_time": "2022-12-13T16:34:49.465Z"
   },
   {
    "duration": 0,
    "start_time": "2022-12-13T16:34:49.466Z"
   },
   {
    "duration": 5,
    "start_time": "2022-12-13T16:35:15.150Z"
   },
   {
    "duration": 1240,
    "start_time": "2022-12-13T16:35:18.745Z"
   },
   {
    "duration": 52,
    "start_time": "2022-12-13T16:35:19.987Z"
   },
   {
    "duration": 14,
    "start_time": "2022-12-13T16:35:20.041Z"
   },
   {
    "duration": 24,
    "start_time": "2022-12-13T16:35:20.057Z"
   },
   {
    "duration": 25,
    "start_time": "2022-12-13T16:35:20.083Z"
   },
   {
    "duration": 347,
    "start_time": "2022-12-13T16:35:20.110Z"
   },
   {
    "duration": 2784,
    "start_time": "2022-12-13T16:35:20.458Z"
   },
   {
    "duration": 1143,
    "start_time": "2022-12-13T16:36:03.680Z"
   },
   {
    "duration": 44,
    "start_time": "2022-12-13T16:36:04.825Z"
   },
   {
    "duration": 11,
    "start_time": "2022-12-13T16:36:04.873Z"
   },
   {
    "duration": 21,
    "start_time": "2022-12-13T16:36:04.885Z"
   },
   {
    "duration": 11,
    "start_time": "2022-12-13T16:36:04.908Z"
   },
   {
    "duration": 317,
    "start_time": "2022-12-13T16:36:04.921Z"
   },
   {
    "duration": 474,
    "start_time": "2022-12-13T16:36:05.240Z"
   },
   {
    "duration": 1043,
    "start_time": "2022-12-14T09:47:43.162Z"
   },
   {
    "duration": 95,
    "start_time": "2022-12-14T09:47:44.207Z"
   },
   {
    "duration": 13,
    "start_time": "2022-12-14T09:47:44.303Z"
   },
   {
    "duration": 8,
    "start_time": "2022-12-14T09:47:44.318Z"
   },
   {
    "duration": 7,
    "start_time": "2022-12-14T09:47:44.327Z"
   },
   {
    "duration": 305,
    "start_time": "2022-12-14T09:47:44.335Z"
   },
   {
    "duration": 111,
    "start_time": "2022-12-14T09:47:44.641Z"
   },
   {
    "duration": 1141,
    "start_time": "2022-12-14T09:47:58.892Z"
   },
   {
    "duration": 45,
    "start_time": "2022-12-14T09:48:00.036Z"
   },
   {
    "duration": 39,
    "start_time": "2022-12-14T09:48:00.083Z"
   },
   {
    "duration": 36,
    "start_time": "2022-12-14T09:48:00.124Z"
   },
   {
    "duration": 34,
    "start_time": "2022-12-14T09:48:00.163Z"
   },
   {
    "duration": 364,
    "start_time": "2022-12-14T09:48:00.198Z"
   },
   {
    "duration": 117,
    "start_time": "2022-12-14T09:48:00.564Z"
   },
   {
    "duration": 1099,
    "start_time": "2022-12-14T09:48:15.472Z"
   },
   {
    "duration": 50,
    "start_time": "2022-12-14T09:48:16.573Z"
   },
   {
    "duration": 11,
    "start_time": "2022-12-14T09:48:16.625Z"
   },
   {
    "duration": 9,
    "start_time": "2022-12-14T09:48:16.638Z"
   },
   {
    "duration": 6,
    "start_time": "2022-12-14T09:48:16.649Z"
   },
   {
    "duration": 338,
    "start_time": "2022-12-14T09:48:16.657Z"
   },
   {
    "duration": 70,
    "start_time": "2022-12-14T09:48:16.997Z"
   },
   {
    "duration": 208,
    "start_time": "2022-12-14T09:48:41.206Z"
   },
   {
    "duration": 1036,
    "start_time": "2022-12-14T09:48:45.067Z"
   },
   {
    "duration": 45,
    "start_time": "2022-12-14T09:48:46.105Z"
   },
   {
    "duration": 11,
    "start_time": "2022-12-14T09:48:46.152Z"
   },
   {
    "duration": 10,
    "start_time": "2022-12-14T09:48:46.165Z"
   },
   {
    "duration": 12,
    "start_time": "2022-12-14T09:48:46.177Z"
   },
   {
    "duration": 292,
    "start_time": "2022-12-14T09:48:46.191Z"
   },
   {
    "duration": 329,
    "start_time": "2022-12-14T09:48:46.485Z"
   },
   {
    "duration": 1113,
    "start_time": "2022-12-14T11:54:26.755Z"
   },
   {
    "duration": 44,
    "start_time": "2022-12-14T11:54:27.870Z"
   },
   {
    "duration": 11,
    "start_time": "2022-12-14T11:54:27.916Z"
   },
   {
    "duration": 7,
    "start_time": "2022-12-14T11:54:27.928Z"
   },
   {
    "duration": 6,
    "start_time": "2022-12-14T11:54:27.937Z"
   },
   {
    "duration": 335,
    "start_time": "2022-12-14T11:54:27.945Z"
   },
   {
    "duration": 824,
    "start_time": "2022-12-14T11:54:28.282Z"
   },
   {
    "duration": 1111,
    "start_time": "2022-12-14T11:55:08.605Z"
   },
   {
    "duration": 44,
    "start_time": "2022-12-14T11:55:09.718Z"
   },
   {
    "duration": 11,
    "start_time": "2022-12-14T11:55:09.764Z"
   },
   {
    "duration": 7,
    "start_time": "2022-12-14T11:55:09.777Z"
   },
   {
    "duration": 9,
    "start_time": "2022-12-14T11:55:09.785Z"
   },
   {
    "duration": 315,
    "start_time": "2022-12-14T11:55:09.795Z"
   },
   {
    "duration": 716,
    "start_time": "2022-12-14T11:55:10.112Z"
   },
   {
    "duration": 459,
    "start_time": "2022-12-14T11:55:59.647Z"
   },
   {
    "duration": 1601,
    "start_time": "2022-12-14T11:56:05.034Z"
   },
   {
    "duration": 572,
    "start_time": "2022-12-14T11:56:22.258Z"
   },
   {
    "duration": 1135,
    "start_time": "2022-12-14T12:07:38.183Z"
   },
   {
    "duration": 45,
    "start_time": "2022-12-14T12:07:39.320Z"
   },
   {
    "duration": 10,
    "start_time": "2022-12-14T12:07:39.367Z"
   },
   {
    "duration": 8,
    "start_time": "2022-12-14T12:07:39.379Z"
   },
   {
    "duration": 8,
    "start_time": "2022-12-14T12:07:39.388Z"
   },
   {
    "duration": 300,
    "start_time": "2022-12-14T12:07:39.397Z"
   },
   {
    "duration": 800,
    "start_time": "2022-12-14T12:07:39.698Z"
   },
   {
    "duration": 1198,
    "start_time": "2022-12-14T12:07:58.433Z"
   },
   {
    "duration": 428,
    "start_time": "2022-12-14T12:10:26.483Z"
   },
   {
    "duration": 1114,
    "start_time": "2022-12-14T12:10:31.139Z"
   },
   {
    "duration": 46,
    "start_time": "2022-12-14T12:10:32.255Z"
   },
   {
    "duration": 11,
    "start_time": "2022-12-14T12:10:32.302Z"
   },
   {
    "duration": 8,
    "start_time": "2022-12-14T12:10:32.315Z"
   },
   {
    "duration": 6,
    "start_time": "2022-12-14T12:10:32.325Z"
   },
   {
    "duration": 328,
    "start_time": "2022-12-14T12:10:32.332Z"
   },
   {
    "duration": 543,
    "start_time": "2022-12-14T12:10:32.662Z"
   },
   {
    "duration": 303,
    "start_time": "2022-12-14T12:11:33.108Z"
   },
   {
    "duration": 2953,
    "start_time": "2022-12-14T12:12:13.652Z"
   },
   {
    "duration": 2796,
    "start_time": "2022-12-14T12:12:36.118Z"
   },
   {
    "duration": 2528,
    "start_time": "2022-12-14T12:12:48.485Z"
   },
   {
    "duration": 1088,
    "start_time": "2022-12-14T12:13:08.938Z"
   },
   {
    "duration": 46,
    "start_time": "2022-12-14T12:13:10.028Z"
   },
   {
    "duration": 11,
    "start_time": "2022-12-14T12:13:10.075Z"
   },
   {
    "duration": 30,
    "start_time": "2022-12-14T12:13:10.088Z"
   },
   {
    "duration": 39,
    "start_time": "2022-12-14T12:13:10.120Z"
   },
   {
    "duration": 344,
    "start_time": "2022-12-14T12:13:10.161Z"
   },
   {
    "duration": 407,
    "start_time": "2022-12-14T12:13:10.506Z"
   },
   {
    "duration": 2906,
    "start_time": "2022-12-14T12:13:11.004Z"
   },
   {
    "duration": 1132,
    "start_time": "2022-12-14T12:14:06.119Z"
   },
   {
    "duration": 44,
    "start_time": "2022-12-14T12:14:07.253Z"
   },
   {
    "duration": 11,
    "start_time": "2022-12-14T12:14:07.299Z"
   },
   {
    "duration": 7,
    "start_time": "2022-12-14T12:14:07.311Z"
   },
   {
    "duration": 7,
    "start_time": "2022-12-14T12:14:07.320Z"
   },
   {
    "duration": 2678,
    "start_time": "2022-12-14T12:14:07.329Z"
   },
   {
    "duration": 397,
    "start_time": "2022-12-14T12:14:10.010Z"
   },
   {
    "duration": 1080,
    "start_time": "2022-12-14T12:14:26.337Z"
   },
   {
    "duration": 54,
    "start_time": "2022-12-14T12:14:27.419Z"
   },
   {
    "duration": 13,
    "start_time": "2022-12-14T12:14:27.476Z"
   },
   {
    "duration": 11,
    "start_time": "2022-12-14T12:14:27.491Z"
   },
   {
    "duration": 8,
    "start_time": "2022-12-14T12:14:27.505Z"
   },
   {
    "duration": 337,
    "start_time": "2022-12-14T12:14:27.515Z"
   },
   {
    "duration": 3861,
    "start_time": "2022-12-14T12:14:27.853Z"
   },
   {
    "duration": 6,
    "start_time": "2022-12-14T13:16:22.181Z"
   },
   {
    "duration": 1089,
    "start_time": "2022-12-14T13:24:28.028Z"
   },
   {
    "duration": 44,
    "start_time": "2022-12-14T13:24:29.119Z"
   },
   {
    "duration": 11,
    "start_time": "2022-12-14T13:24:29.165Z"
   },
   {
    "duration": 6,
    "start_time": "2022-12-14T13:24:29.177Z"
   },
   {
    "duration": 8,
    "start_time": "2022-12-14T13:24:29.185Z"
   },
   {
    "duration": 302,
    "start_time": "2022-12-14T13:24:29.195Z"
   },
   {
    "duration": 2914,
    "start_time": "2022-12-14T13:24:29.499Z"
   },
   {
    "duration": 30333,
    "start_time": "2022-12-14T13:24:32.415Z"
   },
   {
    "duration": 29565,
    "start_time": "2022-12-14T13:25:31.932Z"
   },
   {
    "duration": 1084,
    "start_time": "2022-12-14T13:26:31.527Z"
   },
   {
    "duration": 45,
    "start_time": "2022-12-14T13:26:32.613Z"
   },
   {
    "duration": 11,
    "start_time": "2022-12-14T13:26:32.660Z"
   },
   {
    "duration": 7,
    "start_time": "2022-12-14T13:26:32.673Z"
   },
   {
    "duration": 9,
    "start_time": "2022-12-14T13:26:32.682Z"
   },
   {
    "duration": 305,
    "start_time": "2022-12-14T13:26:32.693Z"
   },
   {
    "duration": 3104,
    "start_time": "2022-12-14T13:26:33.004Z"
   },
   {
    "duration": 29648,
    "start_time": "2022-12-14T13:26:36.111Z"
   },
   {
    "duration": 1112,
    "start_time": "2022-12-14T13:27:38.987Z"
   },
   {
    "duration": 46,
    "start_time": "2022-12-14T13:27:40.101Z"
   },
   {
    "duration": 13,
    "start_time": "2022-12-14T13:27:40.149Z"
   },
   {
    "duration": 8,
    "start_time": "2022-12-14T13:27:40.164Z"
   },
   {
    "duration": 7,
    "start_time": "2022-12-14T13:27:40.174Z"
   },
   {
    "duration": 303,
    "start_time": "2022-12-14T13:27:40.183Z"
   },
   {
    "duration": 3619,
    "start_time": "2022-12-14T13:27:40.488Z"
   },
   {
    "duration": 3816,
    "start_time": "2022-12-14T13:27:44.109Z"
   },
   {
    "duration": 3574,
    "start_time": "2022-12-14T13:28:23.022Z"
   },
   {
    "duration": 3579,
    "start_time": "2022-12-14T13:28:48.559Z"
   },
   {
    "duration": 1159,
    "start_time": "2022-12-14T13:31:16.195Z"
   },
   {
    "duration": 53,
    "start_time": "2022-12-14T13:31:17.356Z"
   },
   {
    "duration": 14,
    "start_time": "2022-12-14T13:31:17.411Z"
   },
   {
    "duration": 11,
    "start_time": "2022-12-14T13:31:17.428Z"
   },
   {
    "duration": 10,
    "start_time": "2022-12-14T13:31:17.441Z"
   },
   {
    "duration": 351,
    "start_time": "2022-12-14T13:31:17.454Z"
   },
   {
    "duration": 2502,
    "start_time": "2022-12-14T13:31:17.806Z"
   },
   {
    "duration": 3633,
    "start_time": "2022-12-14T13:31:20.311Z"
   },
   {
    "duration": 3720,
    "start_time": "2022-12-14T13:31:36.511Z"
   },
   {
    "duration": 3542,
    "start_time": "2022-12-14T13:32:49.545Z"
   },
   {
    "duration": 1186,
    "start_time": "2022-12-14T13:35:06.323Z"
   },
   {
    "duration": 48,
    "start_time": "2022-12-14T13:35:07.512Z"
   },
   {
    "duration": 14,
    "start_time": "2022-12-14T13:35:07.562Z"
   },
   {
    "duration": 6,
    "start_time": "2022-12-14T13:35:07.578Z"
   },
   {
    "duration": 14,
    "start_time": "2022-12-14T13:35:07.586Z"
   },
   {
    "duration": 320,
    "start_time": "2022-12-14T13:35:07.602Z"
   },
   {
    "duration": 2987,
    "start_time": "2022-12-14T13:35:07.924Z"
   },
   {
    "duration": 3810,
    "start_time": "2022-12-14T13:35:10.913Z"
   },
   {
    "duration": 1227,
    "start_time": "2022-12-14T13:35:21.695Z"
   },
   {
    "duration": 44,
    "start_time": "2022-12-14T13:35:22.924Z"
   },
   {
    "duration": 11,
    "start_time": "2022-12-14T13:35:22.970Z"
   },
   {
    "duration": 8,
    "start_time": "2022-12-14T13:35:22.982Z"
   },
   {
    "duration": 5,
    "start_time": "2022-12-14T13:35:22.992Z"
   },
   {
    "duration": 308,
    "start_time": "2022-12-14T13:35:22.998Z"
   },
   {
    "duration": 2903,
    "start_time": "2022-12-14T13:35:23.308Z"
   },
   {
    "duration": 3916,
    "start_time": "2022-12-14T13:35:26.214Z"
   },
   {
    "duration": 1101,
    "start_time": "2022-12-14T13:36:38.710Z"
   },
   {
    "duration": 44,
    "start_time": "2022-12-14T13:36:39.813Z"
   },
   {
    "duration": 11,
    "start_time": "2022-12-14T13:36:39.859Z"
   },
   {
    "duration": 29,
    "start_time": "2022-12-14T13:36:39.871Z"
   },
   {
    "duration": 6,
    "start_time": "2022-12-14T13:36:39.902Z"
   },
   {
    "duration": 329,
    "start_time": "2022-12-14T13:36:39.910Z"
   },
   {
    "duration": 2672,
    "start_time": "2022-12-14T13:36:40.240Z"
   },
   {
    "duration": 3758,
    "start_time": "2022-12-14T13:36:42.914Z"
   },
   {
    "duration": 1060,
    "start_time": "2022-12-15T19:03:13.188Z"
   },
   {
    "duration": 143,
    "start_time": "2022-12-15T19:03:14.249Z"
   },
   {
    "duration": 11,
    "start_time": "2022-12-15T19:03:14.395Z"
   },
   {
    "duration": 11,
    "start_time": "2022-12-15T19:03:14.407Z"
   },
   {
    "duration": 13,
    "start_time": "2022-12-15T19:03:14.420Z"
   },
   {
    "duration": 283,
    "start_time": "2022-12-15T19:03:14.435Z"
   },
   {
    "duration": 2579,
    "start_time": "2022-12-15T19:03:14.720Z"
   },
   {
    "duration": 3454,
    "start_time": "2022-12-15T19:03:17.302Z"
   },
   {
    "duration": 114,
    "start_time": "2022-12-15T19:03:48.313Z"
   },
   {
    "duration": 3360,
    "start_time": "2022-12-15T19:04:02.625Z"
   },
   {
    "duration": 1075,
    "start_time": "2022-12-15T19:39:34.642Z"
   },
   {
    "duration": 43,
    "start_time": "2022-12-15T19:39:35.719Z"
   },
   {
    "duration": 10,
    "start_time": "2022-12-15T19:39:35.763Z"
   },
   {
    "duration": 24,
    "start_time": "2022-12-15T19:39:35.774Z"
   },
   {
    "duration": 8,
    "start_time": "2022-12-15T19:39:35.800Z"
   },
   {
    "duration": 290,
    "start_time": "2022-12-15T19:39:35.809Z"
   },
   {
    "duration": 2399,
    "start_time": "2022-12-15T19:39:36.101Z"
   },
   {
    "duration": 182,
    "start_time": "2022-12-15T19:39:38.502Z"
   },
   {
    "duration": 0,
    "start_time": "2022-12-15T19:39:38.685Z"
   },
   {
    "duration": 164,
    "start_time": "2022-12-15T19:41:25.737Z"
   },
   {
    "duration": 139,
    "start_time": "2022-12-15T19:43:06.362Z"
   },
   {
    "duration": 84,
    "start_time": "2022-12-15T19:43:16.224Z"
   },
   {
    "duration": 232,
    "start_time": "2022-12-15T19:43:18.069Z"
   },
   {
    "duration": 343,
    "start_time": "2022-12-15T19:43:20.455Z"
   },
   {
    "duration": 200,
    "start_time": "2022-12-15T19:44:13.299Z"
   },
   {
    "duration": 1030,
    "start_time": "2022-12-15T19:44:18.909Z"
   },
   {
    "duration": 47,
    "start_time": "2022-12-15T19:44:19.941Z"
   },
   {
    "duration": 11,
    "start_time": "2022-12-15T19:44:19.989Z"
   },
   {
    "duration": 10,
    "start_time": "2022-12-15T19:44:20.002Z"
   },
   {
    "duration": 38,
    "start_time": "2022-12-15T19:44:20.013Z"
   },
   {
    "duration": 301,
    "start_time": "2022-12-15T19:44:20.053Z"
   },
   {
    "duration": 2444,
    "start_time": "2022-12-15T19:44:20.355Z"
   },
   {
    "duration": 301,
    "start_time": "2022-12-15T19:44:22.801Z"
   },
   {
    "duration": 3546,
    "start_time": "2022-12-15T19:44:23.104Z"
   },
   {
    "duration": 29,
    "start_time": "2022-12-15T19:44:48.490Z"
   },
   {
    "duration": 30,
    "start_time": "2022-12-15T19:46:03.683Z"
   },
   {
    "duration": 30,
    "start_time": "2022-12-15T19:46:14.603Z"
   },
   {
    "duration": 15,
    "start_time": "2022-12-15T19:46:21.144Z"
   },
   {
    "duration": 1032,
    "start_time": "2022-12-15T19:46:32.327Z"
   },
   {
    "duration": 44,
    "start_time": "2022-12-15T19:46:33.360Z"
   },
   {
    "duration": 9,
    "start_time": "2022-12-15T19:46:33.406Z"
   },
   {
    "duration": 6,
    "start_time": "2022-12-15T19:46:33.417Z"
   },
   {
    "duration": 9,
    "start_time": "2022-12-15T19:46:33.424Z"
   },
   {
    "duration": 287,
    "start_time": "2022-12-15T19:46:33.434Z"
   },
   {
    "duration": 1883,
    "start_time": "2022-12-15T19:46:33.723Z"
   },
   {
    "duration": 206,
    "start_time": "2022-12-15T19:46:35.698Z"
   },
   {
    "duration": 2695,
    "start_time": "2022-12-15T19:46:35.906Z"
   },
   {
    "duration": 3379,
    "start_time": "2022-12-15T19:46:38.604Z"
   },
   {
    "duration": 37,
    "start_time": "2022-12-15T19:47:17.923Z"
   },
   {
    "duration": 1013,
    "start_time": "2022-12-15T19:47:27.946Z"
   },
   {
    "duration": 47,
    "start_time": "2022-12-15T19:47:28.962Z"
   },
   {
    "duration": 13,
    "start_time": "2022-12-15T19:47:29.011Z"
   },
   {
    "duration": 5,
    "start_time": "2022-12-15T19:47:29.026Z"
   },
   {
    "duration": 5,
    "start_time": "2022-12-15T19:47:29.033Z"
   },
   {
    "duration": 308,
    "start_time": "2022-12-15T19:47:29.039Z"
   },
   {
    "duration": 2352,
    "start_time": "2022-12-15T19:47:29.348Z"
   },
   {
    "duration": 396,
    "start_time": "2022-12-15T19:47:31.702Z"
   },
   {
    "duration": 3093,
    "start_time": "2022-12-15T19:47:32.106Z"
   },
   {
    "duration": 3468,
    "start_time": "2022-12-15T19:47:35.201Z"
   },
   {
    "duration": 1033,
    "start_time": "2022-12-15T19:48:21.806Z"
   },
   {
    "duration": 43,
    "start_time": "2022-12-15T19:48:22.842Z"
   },
   {
    "duration": 9,
    "start_time": "2022-12-15T19:48:22.887Z"
   },
   {
    "duration": 6,
    "start_time": "2022-12-15T19:48:22.898Z"
   },
   {
    "duration": 7,
    "start_time": "2022-12-15T19:48:22.906Z"
   },
   {
    "duration": 288,
    "start_time": "2022-12-15T19:48:22.914Z"
   },
   {
    "duration": 396,
    "start_time": "2022-12-15T19:48:23.203Z"
   },
   {
    "duration": 3433,
    "start_time": "2022-12-15T19:48:23.601Z"
   },
   {
    "duration": 33,
    "start_time": "2022-12-15T19:49:09.263Z"
   },
   {
    "duration": 29,
    "start_time": "2022-12-15T19:49:13.355Z"
   },
   {
    "duration": 29,
    "start_time": "2022-12-15T19:49:16.154Z"
   },
   {
    "duration": 1024,
    "start_time": "2022-12-15T19:49:20.227Z"
   },
   {
    "duration": 48,
    "start_time": "2022-12-15T19:49:21.253Z"
   },
   {
    "duration": 9,
    "start_time": "2022-12-15T19:49:21.303Z"
   },
   {
    "duration": 8,
    "start_time": "2022-12-15T19:49:21.314Z"
   },
   {
    "duration": 8,
    "start_time": "2022-12-15T19:49:21.324Z"
   },
   {
    "duration": 287,
    "start_time": "2022-12-15T19:49:21.333Z"
   },
   {
    "duration": 2584,
    "start_time": "2022-12-15T19:49:21.622Z"
   },
   {
    "duration": 401,
    "start_time": "2022-12-15T19:49:24.299Z"
   },
   {
    "duration": 3810,
    "start_time": "2022-12-15T19:49:24.797Z"
   },
   {
    "duration": 3564,
    "start_time": "2022-12-15T19:49:28.700Z"
   },
   {
    "duration": 1069,
    "start_time": "2022-12-15T19:49:40.878Z"
   },
   {
    "duration": 46,
    "start_time": "2022-12-15T19:49:41.949Z"
   },
   {
    "duration": 10,
    "start_time": "2022-12-15T19:49:41.997Z"
   },
   {
    "duration": 5,
    "start_time": "2022-12-15T19:49:42.009Z"
   },
   {
    "duration": 5,
    "start_time": "2022-12-15T19:49:42.016Z"
   },
   {
    "duration": 293,
    "start_time": "2022-12-15T19:49:42.022Z"
   },
   {
    "duration": 2783,
    "start_time": "2022-12-15T19:49:42.317Z"
   },
   {
    "duration": 302,
    "start_time": "2022-12-15T19:49:45.103Z"
   },
   {
    "duration": 312296,
    "start_time": "2022-12-15T19:49:45.407Z"
   },
   {
    "duration": 3716,
    "start_time": "2022-12-15T19:54:57.706Z"
   },
   {
    "duration": 1040,
    "start_time": "2022-12-15T20:13:05.695Z"
   },
   {
    "duration": 43,
    "start_time": "2022-12-15T20:13:06.737Z"
   },
   {
    "duration": 9,
    "start_time": "2022-12-15T20:13:06.782Z"
   },
   {
    "duration": 8,
    "start_time": "2022-12-15T20:13:06.793Z"
   },
   {
    "duration": 6,
    "start_time": "2022-12-15T20:13:06.803Z"
   },
   {
    "duration": 274,
    "start_time": "2022-12-15T20:13:06.810Z"
   },
   {
    "duration": 213,
    "start_time": "2022-12-15T20:13:07.086Z"
   },
   {
    "duration": 3310,
    "start_time": "2022-12-15T20:13:07.302Z"
   },
   {
    "duration": 1158,
    "start_time": "2022-12-15T20:27:14.090Z"
   },
   {
    "duration": 43,
    "start_time": "2022-12-15T20:27:15.250Z"
   },
   {
    "duration": 10,
    "start_time": "2022-12-15T20:27:15.294Z"
   },
   {
    "duration": 8,
    "start_time": "2022-12-15T20:27:15.306Z"
   },
   {
    "duration": 7,
    "start_time": "2022-12-15T20:27:15.315Z"
   },
   {
    "duration": 279,
    "start_time": "2022-12-15T20:27:15.324Z"
   },
   {
    "duration": 497,
    "start_time": "2022-12-15T20:27:15.605Z"
   },
   {
    "duration": 3512,
    "start_time": "2022-12-15T20:27:16.104Z"
   },
   {
    "duration": 982,
    "start_time": "2022-12-15T20:29:15.461Z"
   },
   {
    "duration": 43,
    "start_time": "2022-12-15T20:29:16.445Z"
   },
   {
    "duration": 11,
    "start_time": "2022-12-15T20:29:16.489Z"
   },
   {
    "duration": 7,
    "start_time": "2022-12-15T20:29:16.501Z"
   },
   {
    "duration": 7,
    "start_time": "2022-12-15T20:29:16.510Z"
   },
   {
    "duration": 286,
    "start_time": "2022-12-15T20:29:16.518Z"
   },
   {
    "duration": 196,
    "start_time": "2022-12-15T20:29:16.805Z"
   },
   {
    "duration": 3580,
    "start_time": "2022-12-15T20:29:17.003Z"
   },
   {
    "duration": 1046,
    "start_time": "2022-12-17T10:29:10.759Z"
   },
   {
    "duration": 143,
    "start_time": "2022-12-17T10:29:11.807Z"
   },
   {
    "duration": 12,
    "start_time": "2022-12-17T10:29:11.952Z"
   },
   {
    "duration": 6,
    "start_time": "2022-12-17T10:29:11.966Z"
   },
   {
    "duration": 10,
    "start_time": "2022-12-17T10:29:11.973Z"
   },
   {
    "duration": 281,
    "start_time": "2022-12-17T10:29:11.985Z"
   },
   {
    "duration": 32,
    "start_time": "2022-12-17T10:29:12.268Z"
   },
   {
    "duration": 182,
    "start_time": "2022-12-17T10:29:12.302Z"
   },
   {
    "duration": 3310,
    "start_time": "2022-12-17T10:29:12.487Z"
   },
   {
    "duration": 1146,
    "start_time": "2022-12-17T10:35:27.006Z"
   },
   {
    "duration": 47,
    "start_time": "2022-12-17T10:35:28.154Z"
   },
   {
    "duration": 12,
    "start_time": "2022-12-17T10:35:28.202Z"
   },
   {
    "duration": 17,
    "start_time": "2022-12-17T10:35:28.216Z"
   },
   {
    "duration": 19,
    "start_time": "2022-12-17T10:35:28.236Z"
   },
   {
    "duration": 279,
    "start_time": "2022-12-17T10:35:28.257Z"
   },
   {
    "duration": 34,
    "start_time": "2022-12-17T10:35:28.538Z"
   },
   {
    "duration": 167,
    "start_time": "2022-12-17T10:35:28.573Z"
   },
   {
    "duration": 3376,
    "start_time": "2022-12-17T10:35:28.741Z"
   },
   {
    "duration": 1137,
    "start_time": "2022-12-17T10:56:15.510Z"
   },
   {
    "duration": 51,
    "start_time": "2022-12-17T10:56:16.649Z"
   },
   {
    "duration": 12,
    "start_time": "2022-12-17T10:56:16.702Z"
   },
   {
    "duration": 31,
    "start_time": "2022-12-17T10:56:16.716Z"
   },
   {
    "duration": 27,
    "start_time": "2022-12-17T10:56:16.750Z"
   },
   {
    "duration": 273,
    "start_time": "2022-12-17T10:56:16.779Z"
   },
   {
    "duration": 36,
    "start_time": "2022-12-17T10:56:17.053Z"
   },
   {
    "duration": 166,
    "start_time": "2022-12-17T10:56:17.091Z"
   },
   {
    "duration": 3393,
    "start_time": "2022-12-17T10:56:17.258Z"
   },
   {
    "duration": 13,
    "start_time": "2022-12-17T10:56:20.653Z"
   },
   {
    "duration": 226,
    "start_time": "2022-12-17T10:57:10.326Z"
   },
   {
    "duration": 1133,
    "start_time": "2022-12-17T10:57:29.941Z"
   },
   {
    "duration": 45,
    "start_time": "2022-12-17T10:57:31.076Z"
   },
   {
    "duration": 12,
    "start_time": "2022-12-17T10:57:31.123Z"
   },
   {
    "duration": 25,
    "start_time": "2022-12-17T10:57:31.137Z"
   },
   {
    "duration": 50,
    "start_time": "2022-12-17T10:57:31.164Z"
   },
   {
    "duration": 138,
    "start_time": "2022-12-17T10:57:31.216Z"
   },
   {
    "duration": 0,
    "start_time": "2022-12-17T10:57:31.356Z"
   },
   {
    "duration": 0,
    "start_time": "2022-12-17T10:57:31.357Z"
   },
   {
    "duration": 0,
    "start_time": "2022-12-17T10:57:31.358Z"
   },
   {
    "duration": 0,
    "start_time": "2022-12-17T10:57:31.359Z"
   },
   {
    "duration": 1063,
    "start_time": "2022-12-17T10:57:59.871Z"
   },
   {
    "duration": 46,
    "start_time": "2022-12-17T10:58:00.936Z"
   },
   {
    "duration": 18,
    "start_time": "2022-12-17T10:58:00.984Z"
   },
   {
    "duration": 72,
    "start_time": "2022-12-17T10:58:01.004Z"
   },
   {
    "duration": 90,
    "start_time": "2022-12-17T10:58:01.078Z"
   },
   {
    "duration": 321,
    "start_time": "2022-12-17T10:58:01.170Z"
   },
   {
    "duration": 33,
    "start_time": "2022-12-17T10:58:01.493Z"
   },
   {
    "duration": 164,
    "start_time": "2022-12-17T10:58:01.528Z"
   },
   {
    "duration": 3515,
    "start_time": "2022-12-17T10:58:01.694Z"
   },
   {
    "duration": 14,
    "start_time": "2022-12-17T10:58:05.211Z"
   },
   {
    "duration": 8,
    "start_time": "2022-12-17T10:58:59.607Z"
   },
   {
    "duration": 8,
    "start_time": "2022-12-17T10:59:03.350Z"
   },
   {
    "duration": 1067,
    "start_time": "2022-12-17T10:59:06.686Z"
   },
   {
    "duration": 46,
    "start_time": "2022-12-17T10:59:07.756Z"
   },
   {
    "duration": 11,
    "start_time": "2022-12-17T10:59:07.804Z"
   },
   {
    "duration": 8,
    "start_time": "2022-12-17T10:59:07.818Z"
   },
   {
    "duration": 11,
    "start_time": "2022-12-17T10:59:07.827Z"
   },
   {
    "duration": 267,
    "start_time": "2022-12-17T10:59:07.840Z"
   },
   {
    "duration": 41,
    "start_time": "2022-12-17T10:59:08.109Z"
   },
   {
    "duration": 163,
    "start_time": "2022-12-17T10:59:08.152Z"
   },
   {
    "duration": 3389,
    "start_time": "2022-12-17T10:59:08.317Z"
   },
   {
    "duration": 8,
    "start_time": "2022-12-17T10:59:11.708Z"
   },
   {
    "duration": 1149,
    "start_time": "2022-12-17T11:02:57.809Z"
   },
   {
    "duration": 48,
    "start_time": "2022-12-17T11:02:58.960Z"
   },
   {
    "duration": 12,
    "start_time": "2022-12-17T11:02:59.010Z"
   },
   {
    "duration": 7,
    "start_time": "2022-12-17T11:02:59.025Z"
   },
   {
    "duration": 7,
    "start_time": "2022-12-17T11:02:59.033Z"
   },
   {
    "duration": 123,
    "start_time": "2022-12-17T11:02:59.042Z"
   },
   {
    "duration": 0,
    "start_time": "2022-12-17T11:02:59.168Z"
   },
   {
    "duration": 0,
    "start_time": "2022-12-17T11:02:59.169Z"
   },
   {
    "duration": 0,
    "start_time": "2022-12-17T11:02:59.170Z"
   },
   {
    "duration": 0,
    "start_time": "2022-12-17T11:02:59.172Z"
   },
   {
    "duration": 1103,
    "start_time": "2022-12-17T11:03:07.940Z"
   },
   {
    "duration": 48,
    "start_time": "2022-12-17T11:03:09.045Z"
   },
   {
    "duration": 12,
    "start_time": "2022-12-17T11:03:09.094Z"
   },
   {
    "duration": 20,
    "start_time": "2022-12-17T11:03:09.108Z"
   },
   {
    "duration": 29,
    "start_time": "2022-12-17T11:03:09.130Z"
   },
   {
    "duration": 130,
    "start_time": "2022-12-17T11:03:09.161Z"
   },
   {
    "duration": 0,
    "start_time": "2022-12-17T11:03:09.292Z"
   },
   {
    "duration": 0,
    "start_time": "2022-12-17T11:03:09.294Z"
   },
   {
    "duration": 0,
    "start_time": "2022-12-17T11:03:09.295Z"
   },
   {
    "duration": 0,
    "start_time": "2022-12-17T11:03:09.296Z"
   },
   {
    "duration": 1044,
    "start_time": "2022-12-17T11:03:38.462Z"
   },
   {
    "duration": 46,
    "start_time": "2022-12-17T11:03:39.508Z"
   },
   {
    "duration": 11,
    "start_time": "2022-12-17T11:03:39.555Z"
   },
   {
    "duration": 13,
    "start_time": "2022-12-17T11:03:39.568Z"
   },
   {
    "duration": 6,
    "start_time": "2022-12-17T11:03:39.582Z"
   },
   {
    "duration": 258,
    "start_time": "2022-12-17T11:03:39.589Z"
   },
   {
    "duration": 31,
    "start_time": "2022-12-17T11:03:39.849Z"
   },
   {
    "duration": 165,
    "start_time": "2022-12-17T11:03:39.882Z"
   },
   {
    "duration": 3293,
    "start_time": "2022-12-17T11:03:40.049Z"
   },
   {
    "duration": 8,
    "start_time": "2022-12-17T11:03:43.344Z"
   },
   {
    "duration": 6,
    "start_time": "2022-12-17T11:11:02.233Z"
   },
   {
    "duration": 1134,
    "start_time": "2022-12-17T11:11:05.728Z"
   },
   {
    "duration": 48,
    "start_time": "2022-12-17T11:11:06.865Z"
   },
   {
    "duration": 11,
    "start_time": "2022-12-17T11:11:06.915Z"
   },
   {
    "duration": 30,
    "start_time": "2022-12-17T11:11:06.928Z"
   },
   {
    "duration": 11,
    "start_time": "2022-12-17T11:11:06.961Z"
   },
   {
    "duration": 307,
    "start_time": "2022-12-17T11:11:06.974Z"
   },
   {
    "duration": 36,
    "start_time": "2022-12-17T11:11:07.283Z"
   },
   {
    "duration": 176,
    "start_time": "2022-12-17T11:11:07.321Z"
   },
   {
    "duration": 9,
    "start_time": "2022-12-17T11:11:07.500Z"
   },
   {
    "duration": 23,
    "start_time": "2022-12-17T11:11:07.512Z"
   },
   {
    "duration": 1112,
    "start_time": "2022-12-17T11:11:27.213Z"
   },
   {
    "duration": 47,
    "start_time": "2022-12-17T11:11:28.326Z"
   },
   {
    "duration": 11,
    "start_time": "2022-12-17T11:11:28.374Z"
   },
   {
    "duration": 18,
    "start_time": "2022-12-17T11:11:28.387Z"
   },
   {
    "duration": 19,
    "start_time": "2022-12-17T11:11:28.408Z"
   },
   {
    "duration": 287,
    "start_time": "2022-12-17T11:11:28.428Z"
   },
   {
    "duration": 43,
    "start_time": "2022-12-17T11:11:28.717Z"
   },
   {
    "duration": 154,
    "start_time": "2022-12-17T11:11:28.762Z"
   },
   {
    "duration": 17,
    "start_time": "2022-12-17T11:11:28.918Z"
   },
   {
    "duration": 6,
    "start_time": "2022-12-17T11:11:28.936Z"
   },
   {
    "duration": 1168,
    "start_time": "2022-12-17T11:11:42.992Z"
   },
   {
    "duration": 46,
    "start_time": "2022-12-17T11:11:44.162Z"
   },
   {
    "duration": 12,
    "start_time": "2022-12-17T11:11:44.210Z"
   },
   {
    "duration": 16,
    "start_time": "2022-12-17T11:11:44.234Z"
   },
   {
    "duration": 27,
    "start_time": "2022-12-17T11:11:44.251Z"
   },
   {
    "duration": 298,
    "start_time": "2022-12-17T11:11:44.280Z"
   },
   {
    "duration": 34,
    "start_time": "2022-12-17T11:11:44.580Z"
   },
   {
    "duration": 167,
    "start_time": "2022-12-17T11:11:44.616Z"
   },
   {
    "duration": 9,
    "start_time": "2022-12-17T11:11:44.784Z"
   },
   {
    "duration": 12,
    "start_time": "2022-12-17T11:11:44.795Z"
   },
   {
    "duration": 1105,
    "start_time": "2022-12-17T11:11:57.831Z"
   },
   {
    "duration": 48,
    "start_time": "2022-12-17T11:11:58.938Z"
   },
   {
    "duration": 11,
    "start_time": "2022-12-17T11:11:58.988Z"
   },
   {
    "duration": 6,
    "start_time": "2022-12-17T11:11:59.001Z"
   },
   {
    "duration": 11,
    "start_time": "2022-12-17T11:11:59.009Z"
   },
   {
    "duration": 272,
    "start_time": "2022-12-17T11:11:59.022Z"
   },
   {
    "duration": 40,
    "start_time": "2022-12-17T11:11:59.296Z"
   },
   {
    "duration": 169,
    "start_time": "2022-12-17T11:11:59.338Z"
   },
   {
    "duration": 9,
    "start_time": "2022-12-17T11:11:59.509Z"
   },
   {
    "duration": 1126,
    "start_time": "2022-12-17T11:13:53.825Z"
   },
   {
    "duration": 48,
    "start_time": "2022-12-17T11:13:54.953Z"
   },
   {
    "duration": 13,
    "start_time": "2022-12-17T11:13:55.003Z"
   },
   {
    "duration": 35,
    "start_time": "2022-12-17T11:13:55.018Z"
   },
   {
    "duration": 23,
    "start_time": "2022-12-17T11:13:55.055Z"
   },
   {
    "duration": 292,
    "start_time": "2022-12-17T11:13:55.080Z"
   },
   {
    "duration": 36,
    "start_time": "2022-12-17T11:13:55.374Z"
   },
   {
    "duration": 171,
    "start_time": "2022-12-17T11:13:55.412Z"
   },
   {
    "duration": 9,
    "start_time": "2022-12-17T11:13:55.585Z"
   },
   {
    "duration": 7,
    "start_time": "2022-12-17T11:15:59.505Z"
   },
   {
    "duration": 1125,
    "start_time": "2022-12-17T11:16:05.225Z"
   },
   {
    "duration": 47,
    "start_time": "2022-12-17T11:16:06.352Z"
   },
   {
    "duration": 12,
    "start_time": "2022-12-17T11:16:06.401Z"
   },
   {
    "duration": 9,
    "start_time": "2022-12-17T11:16:06.416Z"
   },
   {
    "duration": 13,
    "start_time": "2022-12-17T11:16:06.427Z"
   },
   {
    "duration": 284,
    "start_time": "2022-12-17T11:16:06.442Z"
   },
   {
    "duration": 48,
    "start_time": "2022-12-17T11:16:06.728Z"
   },
   {
    "duration": 184,
    "start_time": "2022-12-17T11:16:06.778Z"
   },
   {
    "duration": 8,
    "start_time": "2022-12-17T11:16:06.964Z"
   },
   {
    "duration": 9,
    "start_time": "2022-12-17T11:16:06.974Z"
   },
   {
    "duration": 1114,
    "start_time": "2022-12-17T11:18:40.199Z"
   },
   {
    "duration": 46,
    "start_time": "2022-12-17T11:18:41.315Z"
   },
   {
    "duration": 12,
    "start_time": "2022-12-17T11:18:41.363Z"
   },
   {
    "duration": 15,
    "start_time": "2022-12-17T11:18:41.377Z"
   },
   {
    "duration": 9,
    "start_time": "2022-12-17T11:18:41.394Z"
   },
   {
    "duration": 278,
    "start_time": "2022-12-17T11:18:41.404Z"
   },
   {
    "duration": 37,
    "start_time": "2022-12-17T11:18:41.683Z"
   },
   {
    "duration": 172,
    "start_time": "2022-12-17T11:18:41.722Z"
   },
   {
    "duration": 9,
    "start_time": "2022-12-17T11:18:41.895Z"
   },
   {
    "duration": 8,
    "start_time": "2022-12-17T11:18:41.906Z"
   },
   {
    "duration": 1054,
    "start_time": "2022-12-18T15:58:06.064Z"
   },
   {
    "duration": 92,
    "start_time": "2022-12-18T15:58:07.120Z"
   },
   {
    "duration": 15,
    "start_time": "2022-12-18T15:58:07.213Z"
   },
   {
    "duration": 10,
    "start_time": "2022-12-18T15:58:07.231Z"
   },
   {
    "duration": 6,
    "start_time": "2022-12-18T15:58:07.243Z"
   },
   {
    "duration": 266,
    "start_time": "2022-12-18T15:58:07.250Z"
   },
   {
    "duration": 33,
    "start_time": "2022-12-18T15:58:07.517Z"
   },
   {
    "duration": 44,
    "start_time": "2022-12-18T15:58:07.552Z"
   },
   {
    "duration": 28,
    "start_time": "2022-12-18T15:58:07.597Z"
   },
   {
    "duration": 5,
    "start_time": "2022-12-18T15:58:07.628Z"
   },
   {
    "duration": 45,
    "start_time": "2022-12-18T15:58:52.492Z"
   },
   {
    "duration": 1100,
    "start_time": "2022-12-18T15:58:55.988Z"
   },
   {
    "duration": 45,
    "start_time": "2022-12-18T15:58:57.090Z"
   },
   {
    "duration": 11,
    "start_time": "2022-12-18T15:58:57.136Z"
   },
   {
    "duration": 9,
    "start_time": "2022-12-18T15:58:57.149Z"
   },
   {
    "duration": 6,
    "start_time": "2022-12-18T15:58:57.160Z"
   },
   {
    "duration": 257,
    "start_time": "2022-12-18T15:58:57.167Z"
   },
   {
    "duration": 33,
    "start_time": "2022-12-18T15:58:57.425Z"
   },
   {
    "duration": 62,
    "start_time": "2022-12-18T15:58:57.460Z"
   },
   {
    "duration": 8,
    "start_time": "2022-12-18T15:58:57.524Z"
   },
   {
    "duration": 6,
    "start_time": "2022-12-18T15:58:57.534Z"
   },
   {
    "duration": 44,
    "start_time": "2022-12-18T15:59:29.956Z"
   },
   {
    "duration": 1067,
    "start_time": "2022-12-18T15:59:35.956Z"
   },
   {
    "duration": 46,
    "start_time": "2022-12-18T15:59:37.025Z"
   },
   {
    "duration": 12,
    "start_time": "2022-12-18T15:59:37.072Z"
   },
   {
    "duration": 6,
    "start_time": "2022-12-18T15:59:37.087Z"
   },
   {
    "duration": 6,
    "start_time": "2022-12-18T15:59:37.094Z"
   },
   {
    "duration": 250,
    "start_time": "2022-12-18T15:59:37.101Z"
   },
   {
    "duration": 51,
    "start_time": "2022-12-18T15:59:37.352Z"
   },
   {
    "duration": 57,
    "start_time": "2022-12-18T15:59:37.404Z"
   },
   {
    "duration": 9,
    "start_time": "2022-12-18T15:59:37.463Z"
   },
   {
    "duration": 6,
    "start_time": "2022-12-18T15:59:37.474Z"
   },
   {
    "duration": 1103,
    "start_time": "2022-12-18T16:08:11.074Z"
   },
   {
    "duration": 44,
    "start_time": "2022-12-18T16:08:12.179Z"
   },
   {
    "duration": 10,
    "start_time": "2022-12-18T16:08:12.225Z"
   },
   {
    "duration": 21,
    "start_time": "2022-12-18T16:08:12.238Z"
   },
   {
    "duration": 8,
    "start_time": "2022-12-18T16:08:12.262Z"
   },
   {
    "duration": 259,
    "start_time": "2022-12-18T16:08:12.271Z"
   },
   {
    "duration": 33,
    "start_time": "2022-12-18T16:08:12.532Z"
   },
   {
    "duration": 71,
    "start_time": "2022-12-18T16:08:12.567Z"
   },
   {
    "duration": 10,
    "start_time": "2022-12-18T16:08:12.640Z"
   },
   {
    "duration": 18,
    "start_time": "2022-12-18T16:08:12.652Z"
   },
   {
    "duration": 1306,
    "start_time": "2022-12-29T17:13:28.999Z"
   },
   {
    "duration": 109,
    "start_time": "2022-12-29T17:13:30.307Z"
   },
   {
    "duration": 15,
    "start_time": "2022-12-29T17:13:30.419Z"
   },
   {
    "duration": 9,
    "start_time": "2022-12-29T17:13:30.437Z"
   },
   {
    "duration": 35,
    "start_time": "2022-12-29T17:13:30.449Z"
   },
   {
    "duration": 322,
    "start_time": "2022-12-29T17:13:30.486Z"
   },
   {
    "duration": 46,
    "start_time": "2022-12-29T17:13:30.810Z"
   },
   {
    "duration": 55,
    "start_time": "2022-12-29T17:13:30.858Z"
   },
   {
    "duration": 10,
    "start_time": "2022-12-29T17:13:30.915Z"
   },
   {
    "duration": 9,
    "start_time": "2022-12-29T17:13:30.963Z"
   }
  ],
  "kernelspec": {
   "display_name": "Python 3 (ipykernel)",
   "language": "python",
   "name": "python3"
  },
  "language_info": {
   "codemirror_mode": {
    "name": "ipython",
    "version": 3
   },
   "file_extension": ".py",
   "mimetype": "text/x-python",
   "name": "python",
   "nbconvert_exporter": "python",
   "pygments_lexer": "ipython3",
   "version": "3.10.11"
  },
  "toc": {
   "base_numbering": 1,
   "nav_menu": {},
   "number_sections": true,
   "sideBar": true,
   "skip_h1_title": true,
   "title_cell": "Table of Contents",
   "title_sidebar": "Contents",
   "toc_cell": false,
   "toc_position": {
    "height": "calc(100% - 180px)",
    "left": "10px",
    "top": "150px",
    "width": "384px"
   },
   "toc_section_display": true,
   "toc_window_display": true
  }
 },
 "nbformat": 4,
 "nbformat_minor": 2
}
